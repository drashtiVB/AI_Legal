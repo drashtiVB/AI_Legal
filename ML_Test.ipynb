{
 "cells": [
  {
   "cell_type": "code",
   "execution_count": 7,
   "id": "d86f8dd2",
   "metadata": {},
   "outputs": [
    {
     "name": "stdout",
     "output_type": "stream",
     "text": [
      "Enter Case StudyAn attorney knowingly provided false legal advice to a client, causing them to lose a legal case. The attorney was charged with cheating with knowledge that wrongful loss may ensue under Section 418.\n"
     ]
    }
   ],
   "source": [
    "import pickle\n",
    "import bz2\n",
    "sfile1 = bz2.BZ2File('All Model', 'r')\n",
    "models=pickle.load(sfile1)\n",
    "sfile2 = bz2.BZ2File('All Vector', 'r')\n",
    "vectorizer=pickle.load(sfile2)\n",
    "cas=input(\"Enter Case Study\")"
   ]
  },
  {
   "cell_type": "code",
   "execution_count": 8,
   "id": "4b6ca56c",
   "metadata": {},
   "outputs": [
    {
     "data": {
      "text/html": [
       "<div>\n",
       "<style scoped>\n",
       "    .dataframe tbody tr th:only-of-type {\n",
       "        vertical-align: middle;\n",
       "    }\n",
       "\n",
       "    .dataframe tbody tr th {\n",
       "        vertical-align: top;\n",
       "    }\n",
       "\n",
       "    .dataframe thead th {\n",
       "        text-align: right;\n",
       "    }\n",
       "</style>\n",
       "<table border=\"1\" class=\"dataframe\">\n",
       "  <thead>\n",
       "    <tr style=\"text-align: right;\">\n",
       "      <th></th>\n",
       "      <th>case study</th>\n",
       "    </tr>\n",
       "  </thead>\n",
       "  <tbody>\n",
       "    <tr>\n",
       "      <th>0</th>\n",
       "      <td>An attorney knowingly provided false legal adv...</td>\n",
       "    </tr>\n",
       "  </tbody>\n",
       "</table>\n",
       "</div>"
      ],
      "text/plain": [
       "                                          case study\n",
       "0  An attorney knowingly provided false legal adv..."
      ]
     },
     "execution_count": 8,
     "metadata": {},
     "output_type": "execute_result"
    }
   ],
   "source": [
    "import pandas as pd\n",
    "df=pd.DataFrame({\"case study\":[cas]})\n",
    "df"
   ]
  },
  {
   "cell_type": "code",
   "execution_count": 9,
   "id": "2cb5c08a",
   "metadata": {},
   "outputs": [
    {
     "name": "stderr",
     "output_type": "stream",
     "text": [
      "C:\\Users\\ADMIN\\AppData\\Local\\Temp\\ipykernel_32000\\3226446464.py:12: FutureWarning: The default value of regex will change from True to False in a future version.\n",
      "  df['clean'] = df['clean'].str.replace(r\"http\\S+\", \"\")\n",
      "C:\\Users\\ADMIN\\AppData\\Local\\Temp\\ipykernel_32000\\3226446464.py:14: FutureWarning: The default value of regex will change from True to False in a future version.\n",
      "  df['clean'] = df['clean'].str.replace(\"[^a-zA-Z]\", \" \")\n"
     ]
    },
    {
     "data": {
      "text/html": [
       "<div>\n",
       "<style scoped>\n",
       "    .dataframe tbody tr th:only-of-type {\n",
       "        vertical-align: middle;\n",
       "    }\n",
       "\n",
       "    .dataframe tbody tr th {\n",
       "        vertical-align: top;\n",
       "    }\n",
       "\n",
       "    .dataframe thead th {\n",
       "        text-align: right;\n",
       "    }\n",
       "</style>\n",
       "<table border=\"1\" class=\"dataframe\">\n",
       "  <thead>\n",
       "    <tr style=\"text-align: right;\">\n",
       "      <th></th>\n",
       "      <th>case study</th>\n",
       "      <th>clean</th>\n",
       "    </tr>\n",
       "  </thead>\n",
       "  <tbody>\n",
       "    <tr>\n",
       "      <th>0</th>\n",
       "      <td>An attorney knowingly provided false legal adv...</td>\n",
       "      <td>attorney knowingli provid fals legal advic cli...</td>\n",
       "    </tr>\n",
       "  </tbody>\n",
       "</table>\n",
       "</div>"
      ],
      "text/plain": [
       "                                          case study  \\\n",
       "0  An attorney knowingly provided false legal adv...   \n",
       "\n",
       "                                               clean  \n",
       "0  attorney knowingli provid fals legal advic cli...  "
      ]
     },
     "execution_count": 9,
     "metadata": {},
     "output_type": "execute_result"
    }
   ],
   "source": [
    "import nltk \n",
    "def remove_stopwords(text):\n",
    "    stopwords=nltk.corpus.stopwords.words('english')\n",
    "    clean_text=' '.join([word for word in text.split() if word not in stopwords])\n",
    "    return clean_text\n",
    "\n",
    "from nltk.stem.porter import PorterStemmer\n",
    "def cleanup_data(df):\n",
    "    # remove handle\n",
    "    df['clean'] = df[\"case study\"].str.replace(\"@\", \"\") \n",
    "    # remove links\n",
    "    df['clean'] = df['clean'].str.replace(r\"http\\S+\", \"\") \n",
    "    # remove punctuations and special characters\n",
    "    df['clean'] = df['clean'].str.replace(\"[^a-zA-Z]\", \" \") \n",
    "    # remove stop words\n",
    "    df['clean'] = df['clean'].apply(lambda text : remove_stopwords(text.lower()))\n",
    "    # split text and tokenize\n",
    "    df['clean'] = df['clean'].apply(lambda x: x.split())\n",
    "    # let's apply stemmer\n",
    "    stemmer = PorterStemmer()\n",
    "    df['clean'] = df['clean'].apply(lambda x: [stemmer.stem(i) for i in x])\n",
    "    # stitch back words\n",
    "    df['clean'] = df['clean'].apply(lambda x: ' '.join([w for w in x]))\n",
    "    # remove small words\n",
    "    df['clean'] = df['clean'].apply(lambda x: ' '.join([w for w in x.split() if len(w)>3]))\n",
    "cleanup_data(df)\n",
    "df"
   ]
  },
  {
   "cell_type": "code",
   "execution_count": 10,
   "id": "48ec816d",
   "metadata": {},
   "outputs": [
    {
     "data": {
      "text/plain": [
       "'attorney knowingli provid fals legal advic client caus lose legal case attorney charg cheat knowledg wrong loss ensu section'"
      ]
     },
     "execution_count": 10,
     "metadata": {},
     "output_type": "execute_result"
    }
   ],
   "source": [
    "df[\"clean\"][0]"
   ]
  },
  {
   "cell_type": "code",
   "execution_count": 11,
   "id": "5daeacd9",
   "metadata": {},
   "outputs": [
    {
     "data": {
      "text/plain": [
       "array([[0., 0., 0., ..., 0., 0., 0.]])"
      ]
     },
     "execution_count": 11,
     "metadata": {},
     "output_type": "execute_result"
    }
   ],
   "source": [
    "feature=vectorizer.transform([df[\"clean\"][0]])\n",
    "feature.toarray()"
   ]
  },
  {
   "cell_type": "code",
   "execution_count": 12,
   "id": "31e82055",
   "metadata": {
    "scrolled": false
   },
   "outputs": [
    {
     "name": "stdout",
     "output_type": "stream",
     "text": [
      "K-Nearest Neighbors\n",
      "['418']\n",
      "Liner SVM\n",
      "['418']\n",
      "Decision Tree\n",
      "['344']\n",
      "Random Forest\n",
      "['418']\n",
      "ExtraTreesClassifier\n",
      "['418']\n"
     ]
    }
   ],
   "source": [
    "names = [\"K-Nearest Neighbors\", \"Liner SVM\",\n",
    "         \"Decision Tree\", \"Random Forest\",\n",
    "         \"ExtraTreesClassifier\"]\n",
    "for i in range(0,len(names)):\n",
    "    print(names[i])\n",
    "    print(models[i].predict(feature))"
   ]
  },
  {
   "cell_type": "code",
   "execution_count": null,
   "id": "0faf4550",
   "metadata": {},
   "outputs": [],
   "source": []
  },
  {
   "cell_type": "code",
   "execution_count": null,
   "id": "9861a72a",
   "metadata": {},
   "outputs": [],
   "source": []
  },
  {
   "cell_type": "code",
   "execution_count": null,
   "id": "d89d84a9",
   "metadata": {},
   "outputs": [],
   "source": []
  },
  {
   "cell_type": "code",
   "execution_count": null,
   "id": "bc90f277",
   "metadata": {},
   "outputs": [],
   "source": []
  }
 ],
 "metadata": {
  "kernelspec": {
   "display_name": "Python 3 (ipykernel)",
   "language": "python",
   "name": "python3"
  },
  "language_info": {
   "codemirror_mode": {
    "name": "ipython",
    "version": 3
   },
   "file_extension": ".py",
   "mimetype": "text/x-python",
   "name": "python",
   "nbconvert_exporter": "python",
   "pygments_lexer": "ipython3",
   "version": "3.11.4"
  }
 },
 "nbformat": 4,
 "nbformat_minor": 5
}
